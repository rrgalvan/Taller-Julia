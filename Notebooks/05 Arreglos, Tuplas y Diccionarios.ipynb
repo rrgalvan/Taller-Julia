{
 "cells": [
  {
   "cell_type": "markdown",
   "metadata": {},
   "source": [
    "# Arreglos\n",
    "Los arreglos son conjuntos ordenados de datos. Pueden estar organizados en N dimensiones, y se representan entre corchetes `[]`. Los arreglos horizontales (o vectores) contienen elementos separados por un espacio. Los arreglos verticales se separan por punto-y-coma (`;`):"
   ]
  },
  {
   "cell_type": "code",
   "execution_count": 1,
   "metadata": {},
   "outputs": [
    {
     "data": {
      "text/plain": [
       "1×3 Array{Int64,2}:\n",
       " 1  2  3"
      ]
     },
     "execution_count": 1,
     "metadata": {},
     "output_type": "execute_result"
    }
   ],
   "source": [
    "[1 2 3]"
   ]
  },
  {
   "cell_type": "code",
   "execution_count": 2,
   "metadata": {},
   "outputs": [
    {
     "data": {
      "text/plain": [
       "3-element Array{Int64,1}:\n",
       " 3\n",
       " 6\n",
       " 9"
      ]
     },
     "execution_count": 2,
     "metadata": {},
     "output_type": "execute_result"
    }
   ],
   "source": [
    "[3;6;9]"
   ]
  },
  {
   "cell_type": "code",
   "execution_count": 3,
   "metadata": {},
   "outputs": [
    {
     "data": {
      "text/plain": [
       "3×3 Array{Int64,2}:\n",
       " 2  2  2\n",
       " 3  3  3\n",
       " 4  4  4"
      ]
     },
     "execution_count": 3,
     "metadata": {},
     "output_type": "execute_result"
    }
   ],
   "source": [
    "[2 2 2;3 3 3;4 4 4]"
   ]
  },
  {
   "cell_type": "markdown",
   "metadata": {},
   "source": [
    "## Funciónes básicas\n",
    "Estas son funciones básicas que operan arreglos\n",
    "\n",
    "|Función|Descripción|\n",
    "|-|-|\n",
    "|eltype(A)|El tipo de elementos contenidos en A|\n",
    "|length(A)|El numero de elementos contenidos en A|\n",
    "|ndims(A)|Numero de dimensiones de A|\n",
    "|size(A)|Tupla conteniendo las dimensiones de A|\n",
    "|size(A,n)|El tamaño de A en una dimensión especifica n|\n",
    "|indices(A)|Tupla conteniendo indices validos de A|\n",
    "|indices(A,n)|Un rango expresando indices validos en ladimención N de A|\n",
    "|eachindex(A)|Un iterador eficiente para visitar cada posición de A|"
   ]
  },
  {
   "cell_type": "code",
   "execution_count": null,
   "metadata": {},
   "outputs": [],
   "source": [
    "A = [2 2; 3.3 2.2;\"Gato\" \"perro\"]"
   ]
  },
  {
   "cell_type": "code",
   "execution_count": null,
   "metadata": {},
   "outputs": [],
   "source": [
    "eltype(A)"
   ]
  },
  {
   "cell_type": "code",
   "execution_count": null,
   "metadata": {},
   "outputs": [],
   "source": [
    "length(A)"
   ]
  },
  {
   "cell_type": "code",
   "execution_count": null,
   "metadata": {},
   "outputs": [],
   "source": [
    "ndims(A)"
   ]
  },
  {
   "cell_type": "code",
   "execution_count": null,
   "metadata": {},
   "outputs": [],
   "source": [
    "size(A)"
   ]
  },
  {
   "cell_type": "code",
   "execution_count": null,
   "metadata": {},
   "outputs": [],
   "source": [
    "methods(size)"
   ]
  },
  {
   "cell_type": "code",
   "execution_count": null,
   "metadata": {},
   "outputs": [],
   "source": [
    "size(A)"
   ]
  },
  {
   "cell_type": "markdown",
   "metadata": {},
   "source": [
    "## Construcción\n",
    "Para construir arreglos muy grandes, a veces se necesitas ciertas funciones.\n",
    "\n",
    "|Función|Descripción|\n",
    "|-|-|\n",
    "|Array{type}(dims...)|Arreglo denso sin inicializar|\n",
    "|zeros(type, dims...)|Arreglo de zeros con el tipo especificado (default Float64)|\n",
    "|zeros(A)|Arreglo del zeros con el mismo tipo y dimenciones que A|\n",
    "|ones(type, dims...)|Arreglo de unos con el tipo especificado (default Float64)|\n",
    "|ones(A)|Arreglo del zeros con el mismo tipo y dimenciones que A|\n",
    "|trues(dims...)|Arreglo de booleanos con `true`s|\n",
    "|trues(A)|Arreglo de booleanos con `true`s y las dimensiones de A|\n",
    "|falses(dims...)|Arreglo de booleanos con `false`s|\n",
    "|falses(A)|Arreglo de booleanos con `false`s y las dimensiones de A|\n",
    "|reshape(A, dims...)|Un arreglo con los mismos datos que A, redimensionados|\n",
    "|copy(A)|Copia A|\n",
    "|deepcopy(A)|Copia A recursivamente|\n",
    "|rand(dims)|Arreglo de `Float64`s con valores aleatorios distribuidos uniformemente en el rango [0,1)|\n",
    "|randn(dims)|Arreglo de `Float64`s con valores aleatorios con distribución normal estandar|\n",
    "|eye(n)|Matriz identidad de `n`x`n`|\n",
    "|eye(m, n)|Matriz identidad de `m`x`n`|\n",
    "|linspace(start, stop, n)|rango de `n` elementos distanciados de manera lineal desde `start` hasta `stop`|\n",
    "|fill!(A, x)|Rellena el arreglo `A` con el valor `x`|\n",
    "|fill(x, dims)|Crea un arreglo de dimenciones `dims` lleno del valor `x`|"
   ]
  },
  {
   "cell_type": "code",
   "execution_count": null,
   "metadata": {},
   "outputs": [],
   "source": [
    "Array{Float64,2}[2.0 2.0]"
   ]
  },
  {
   "cell_type": "code",
   "execution_count": null,
   "metadata": {},
   "outputs": [],
   "source": [
    "zeros(Float16, 250)"
   ]
  },
  {
   "cell_type": "code",
   "execution_count": null,
   "metadata": {},
   "outputs": [],
   "source": [
    "A = [0 0 1 1 3 3; \n",
    "     1 2 3 4 5 6]"
   ]
  },
  {
   "cell_type": "code",
   "execution_count": null,
   "metadata": {},
   "outputs": [],
   "source": [
    "ones(A)"
   ]
  },
  {
   "cell_type": "code",
   "execution_count": null,
   "metadata": {},
   "outputs": [],
   "source": [
    "eye(A)"
   ]
  },
  {
   "cell_type": "code",
   "execution_count": null,
   "metadata": {},
   "outputs": [],
   "source": [
    "eye(10)"
   ]
  },
  {
   "cell_type": "code",
   "execution_count": null,
   "metadata": {},
   "outputs": [],
   "source": [
    "eye(Int,5,2)"
   ]
  },
  {
   "cell_type": "code",
   "execution_count": null,
   "metadata": {},
   "outputs": [],
   "source": [
    "Array{Int}(round(100*rand(10,5)))"
   ]
  },
  {
   "cell_type": "code",
   "execution_count": null,
   "metadata": {},
   "outputs": [],
   "source": [
    "A = Array{Int}(round(100*randn(5,5)))"
   ]
  },
  {
   "cell_type": "markdown",
   "metadata": {},
   "source": [
    "### Algebra lineal\n",
    "Al poder operar con arreglos como matrices, se pueden aplicar operadores de algebra lineal:"
   ]
  },
  {
   "cell_type": "code",
   "execution_count": null,
   "metadata": {},
   "outputs": [],
   "source": [
    "# Inversa\n",
    "A^-1"
   ]
  },
  {
   "cell_type": "code",
   "execution_count": null,
   "metadata": {},
   "outputs": [],
   "source": [
    "# Función para la inversa de una matriz\n",
    "inv(A)"
   ]
  },
  {
   "cell_type": "code",
   "execution_count": null,
   "metadata": {},
   "outputs": [],
   "source": [
    "# Determinante\n",
    "det(A)"
   ]
  },
  {
   "cell_type": "code",
   "execution_count": null,
   "metadata": {},
   "outputs": [],
   "source": [
    "# Traspuesta\n",
    "A'"
   ]
  },
  {
   "cell_type": "code",
   "execution_count": null,
   "metadata": {},
   "outputs": [],
   "source": [
    "# Eigenvalores y Eigenvectores\n",
    "eig(A)"
   ]
  },
  {
   "cell_type": "code",
   "execution_count": null,
   "metadata": {},
   "outputs": [],
   "source": [
    "?eig"
   ]
  },
  {
   "cell_type": "markdown",
   "metadata": {},
   "source": [
    "## Concatenación\n",
    "|Expresión|Función|\n",
    "|-|-|\n",
    "|[A; B; C; ...]|vcat()|\n",
    "|[A B C ...]|hcat()|\n",
    "|[A B; C D; ...]|hvcat()|"
   ]
  },
  {
   "cell_type": "code",
   "execution_count": null,
   "metadata": {},
   "outputs": [],
   "source": [
    "[A;A;A]"
   ]
  },
  {
   "cell_type": "markdown",
   "metadata": {},
   "source": [
    "## Rangos unitarios\n",
    "Una expresión útil en muchos casos es un rango. Para quienes tienen experiencia con MATLAB, ésta expresión será familar: `1:10`. Ésta expresión indica todos los enteros entre uno y diez. De igual forma se puede hacer en intervalos: `1:0.1:10`. Ésto significa \"Cuenta del uno al diez en pasos de punto uno\".\n",
    "Los rangos en Julia son tipos en si, así que si preguntas a Julia solo responderá con el rango:"
   ]
  },
  {
   "cell_type": "code",
   "execution_count": null,
   "metadata": {},
   "outputs": [],
   "source": [
    "println(typeof(1:10))\n",
    "1:10"
   ]
  },
  {
   "cell_type": "markdown",
   "metadata": {},
   "source": [
    "Para crear la lista de números hay que utilizar el rango de alguna forma. La más simple es `collect()`"
   ]
  },
  {
   "cell_type": "code",
   "execution_count": null,
   "metadata": {},
   "outputs": [],
   "source": [
    "collect(1:5)'"
   ]
  },
  {
   "cell_type": "markdown",
   "metadata": {},
   "source": [
    "## Comprensiones\n",
    "Las comprensiones (listas de comprensión en python) son formas de crear arreglos en base a una función:"
   ]
  },
  {
   "cell_type": "code",
   "execution_count": null,
   "metadata": {},
   "outputs": [],
   "source": [
    "[i^2 for i in 1:5]"
   ]
  },
  {
   "cell_type": "markdown",
   "metadata": {},
   "source": [
    "Las comprenciones solo funcionan dentro de listas:"
   ]
  },
  {
   "cell_type": "code",
   "execution_count": null,
   "metadata": {},
   "outputs": [],
   "source": [
    "i^2 for i in 1:5"
   ]
  },
  {
   "cell_type": "code",
   "execution_count": null,
   "metadata": {},
   "outputs": [],
   "source": [
    "[(i,j) for i in 1:0.1:2, j in 5:10]"
   ]
  },
  {
   "cell_type": "markdown",
   "metadata": {},
   "source": [
    "## Expresiones generadoras\n",
    "Las mismas expresiones que se usan para las listas se pueden utilizar para algunas funciones que reciven arreglos:"
   ]
  },
  {
   "cell_type": "code",
   "execution_count": null,
   "metadata": {},
   "outputs": [],
   "source": [
    "@time sum([i^2 for i in 1:100])"
   ]
  },
  {
   "cell_type": "code",
   "execution_count": null,
   "metadata": {},
   "outputs": [],
   "source": [
    "@time sum(i^2 for i in 1:100)"
   ]
  },
  {
   "cell_type": "markdown",
   "metadata": {},
   "source": [
    "## Vectorización de funciones\n",
    "En esta libreta hemos visto funciones que pueden aplicarse a arreglos enteros. Pero las funciones unitarias pueden también aplicarse a cada elemento de un vector."
   ]
  },
  {
   "cell_type": "code",
   "execution_count": null,
   "metadata": {},
   "outputs": [],
   "source": [
    "exp.([1,2,3,4])"
   ]
  },
  {
   "cell_type": "code",
   "execution_count": null,
   "metadata": {},
   "outputs": [],
   "source": [
    "f(x) = x^2"
   ]
  },
  {
   "cell_type": "code",
   "execution_count": null,
   "metadata": {},
   "outputs": [],
   "source": [
    "f.([1,2,3,4])"
   ]
  },
  {
   "cell_type": "markdown",
   "metadata": {},
   "source": [
    "# Tuplas\n",
    "Las tuplas son arreglos inmutables unidimensionales y se representan como una lista de elementos separados por comas entre paréntesis."
   ]
  },
  {
   "cell_type": "code",
   "execution_count": null,
   "metadata": {},
   "outputs": [],
   "source": [
    "(2,3,4)"
   ]
  },
  {
   "cell_type": "markdown",
   "metadata": {},
   "source": [
    "## Diccionarios\n",
    "Los diccionarios permiten mapear \"llaves\" con valores."
   ]
  },
  {
   "cell_type": "code",
   "execution_count": null,
   "metadata": {},
   "outputs": [],
   "source": [
    "Dict(\"a\" => 1, \"b\" => 2, \"c\" => 3)"
   ]
  },
  {
   "cell_type": "markdown",
   "metadata": {},
   "source": [
    "Pueden ser generados con funciones generadoras.\n",
    "**NOTA**: Los diccionarios no tienen un orden especifico"
   ]
  },
  {
   "cell_type": "code",
   "execution_count": null,
   "metadata": {},
   "outputs": [],
   "source": [
    "Dict(string(Int(i)) => sin(i) for i = 0:5:45)"
   ]
  }
 ],
 "metadata": {
  "kernelspec": {
   "display_name": "Julia 1.5.1",
   "language": "julia",
   "name": "julia-1.5"
  },
  "language_info": {
   "file_extension": ".jl",
   "mimetype": "application/julia",
   "name": "julia",
   "version": "1.5.1"
  },
  "widgets": {
   "state": {},
   "version": "1.1.2"
  }
 },
 "nbformat": 4,
 "nbformat_minor": 2
}
