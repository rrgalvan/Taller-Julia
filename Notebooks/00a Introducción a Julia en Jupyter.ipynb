{
 "cells": [
  {
   "cell_type": "markdown",
   "metadata": {},
   "source": [
    "# Jupyter\n",
    "Ésta es una libreta de Jupyter, está hecha de celdas que pueden tener distintos tipos. Esta es una celda de markdown. En ella puedes escribir notas en [md](https://github.com/adam-p/markdown-here/wiki/Markdown-Cheatsheet) y latex:\n",
    "\n",
    "\n",
    "\n",
    "\\begin{align}\n",
    " A &=     \\left(\\int_t XXX       \\right.\\nonumber\\\\\n",
    "   &\\qquad \\left.\\vphantom{\\int_t} YYY \\dots \\right)\n",
    "\\end{align}\n",
    "\n",
    "Para convertir éste markdown en html preciona <kbd> Shift + Enter </kbd>.\n",
    "\n",
    "Para ver el markdown dá doble click en la celda, o posicionate con las flechas y preciona <kbd>Enter</kbd>."
   ]
  },
  {
   "cell_type": "code",
   "execution_count": null,
   "metadata": {},
   "outputs": [],
   "source": [
    "# Esta es una celda de código. En ella puedes correr código segun el kernel de la libreta que elijas. Julia 0.5.0 en éste caso\n",
    "versioninfo()"
   ]
  },
  {
   "cell_type": "code",
   "execution_count": null,
   "metadata": {},
   "outputs": [],
   "source": [
    "# Para autoacompletar una función presiona tabulador. Intentalo aquí\n",
    "sqrt(2)"
   ]
  },
  {
   "cell_type": "code",
   "execution_count": null,
   "metadata": {
    "collapsed": true
   },
   "outputs": [],
   "source": [
    "# Para obtener ayuda sobre una función presiona shift + tab despues de su nombre:\n",
    "abs()\n",
    "\n",
    "fft()"
   ]
  },
  {
   "cell_type": "code",
   "execution_count": null,
   "metadata": {},
   "outputs": [],
   "source": [
    "# Para obtener información sobre una variable presiona shift + tab despues de ella (una vez que esté en el scope)\n",
    "# Corre ésta celda e intentalo en la siguiente\n",
    "x = 2"
   ]
  },
  {
   "cell_type": "code",
   "execution_count": null,
   "metadata": {},
   "outputs": [],
   "source": [
    "x + π"
   ]
  },
  {
   "cell_type": "code",
   "execution_count": null,
   "metadata": {
    "collapsed": true
   },
   "outputs": [],
   "source": [
    "# Para escribir latex en julia escribe el caractér `\\` y el latex que desees. Puedes autoacompletar con Tab\n",
    "# Una vez que tengas tu latex listo preciona Tab de nuevo. Intentalo:\n",
    "α\n",
    "α²"
   ]
  },
  {
   "cell_type": "markdown",
   "metadata": {},
   "source": [
    "Para acceder a la documentación de julia, comienza tu celda con un signo de interrogación y la palabra que quieras buscar en la documentación."
   ]
  },
  {
   "cell_type": "code",
   "execution_count": null,
   "metadata": {},
   "outputs": [],
   "source": [
    "?conj"
   ]
  },
  {
   "cell_type": "markdown",
   "metadata": {},
   "source": [
    "Para acceder a la ayuda de jupyter preciona <kbd>Esc</kbd> y <kbd>h</kbd>. (O simplementa da click en el botón de arriba que dice `Help' ;D )"
   ]
  }
 ],
 "metadata": {
  "kernelspec": {
   "display_name": "Julia 1.5.1",
   "language": "julia",
   "name": "julia-1.5"
  },
  "language_info": {
   "file_extension": ".jl",
   "mimetype": "application/julia",
   "name": "julia",
   "version": "1.5.1"
  },
  "widgets": {
   "state": {},
   "version": "1.1.2"
  }
 },
 "nbformat": 4,
 "nbformat_minor": 2
}
