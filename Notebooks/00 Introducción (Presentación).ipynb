{
 "cells": [
  {
   "cell_type": "markdown",
   "metadata": {
    "slideshow": {
     "slide_type": "slide"
    }
   },
   "source": [
    "<img src=\"https://camo.githubusercontent.com/e1ae5c7f6fe275a50134d5889a68f0acdd09ada8/687474703a2f2f6a756c69616c616e672e6f72672f696d616765732f6c6f676f5f68697265732e706e67\" alt=\"Julia Logo\" width=\"300px\">\n",
    "# Julia 0.5.0 para Universitarios\n",
    "Alberto Barradas (@abcsds)\n"
   ]
  },
  {
   "cell_type": "markdown",
   "metadata": {
    "slideshow": {
     "slide_type": "slide"
    }
   },
   "source": [
    "# Apoyo didáctico\n",
    "<img src=\"https://assets-cdn.github.com/images/modules/open_graph/github-mark.png\" alt=\"Github\" width=\"200px\" height=\"200px\">\n",
    "- Github: [http://github.com](http://github.com)\n"
   ]
  },
  {
   "cell_type": "markdown",
   "metadata": {
    "slideshow": {
     "slide_type": "fragment"
    }
   },
   "source": [
    "<img src=\"https://uappexplorer.com/api/icon/7e421198fc53bb83afd030d317b89b0c/gitter.peter-bittner.png\" alt=\"Github\" width=\"100px\" height=\"100px\">\n",
    "- Gitter: [https://gitter.im](https://gitter.im)"
   ]
  },
  {
   "cell_type": "markdown",
   "metadata": {
    "slideshow": {
     "slide_type": "subslide"
    }
   },
   "source": [
    "# Comunidad\n",
    "- Ismael Venegas Castelló (@Ismael-VC)\n",
    "- Kelvyn Baruc Sánchez Sánchez (@Kelvyn88)"
   ]
  },
  {
   "cell_type": "markdown",
   "metadata": {
    "slideshow": {
     "slide_type": "slide"
    }
   },
   "source": [
    "## ¿Qué es Julia?\n",
    "\n",
    "Lenguaje dinámico de programación técnica de alto desempeño y alto nivel."
   ]
  },
  {
   "cell_type": "markdown",
   "metadata": {
    "slideshow": {
     "slide_type": "slide"
    }
   },
   "source": [
    "## ¿Por qué Julia?\n",
    "- Código Libre\n",
    "- Sintáxis limpia\n",
    "- Precisión numérica\n",
    "- Excelente librería matemática\n",
    "- Alto desepmeño\n",
    "- Ejecución distribuida y paralela\n",
    "- Comunidad activa y propositiva"
   ]
  },
  {
   "cell_type": "markdown",
   "metadata": {
    "slideshow": {
     "slide_type": "slide"
    }
   },
   "source": [
    "### ¿Qué es código libre?\n",
    "<img src=\"https://opensource.org/files/osi_symbol.png\" alt=\"Open Source\" width=\"100px\" height=\"100px\">\n",
    "Tódo lo necesario para el lenguaje de programación se encuentra en: **https://github.com/JuliaLang/julia**"
   ]
  },
  {
   "cell_type": "markdown",
   "metadata": {
    "slideshow": {
     "slide_type": "slide"
    }
   },
   "source": [
    "### Sintaxis\n",
    "> La sintaxis de un lenguaje de programación se define como el conjunto de reglas que deben seguirse al escribir el código fuente de los programas para considerarse como correctos para ese lenguaje de programación.\n",
    "\n",
    "Fuente: _wikipedia_"
   ]
  },
  {
   "cell_type": "markdown",
   "metadata": {
    "slideshow": {
     "slide_type": "subslide"
    }
   },
   "source": [
    "```cpp\n",
    "// C++\n",
    "#include <iostream>\n",
    " \n",
    "int main () {\n",
    "  std::cout << \"Hello World!\" << std::endl;\n",
    "}\n",
    "```\n"
   ]
  },
  {
   "cell_type": "markdown",
   "metadata": {
    "slideshow": {
     "slide_type": "fragment"
    }
   },
   "source": [
    "```julia\n",
    "# Julia\n",
    "println(\"Hello World!\")\n",
    "```"
   ]
  },
  {
   "cell_type": "code",
   "execution_count": 15,
   "metadata": {
    "slideshow": {
     "slide_type": "subslide"
    }
   },
   "outputs": [
    {
     "name": "stdout",
     "output_type": "stream",
     "text": [
      "π = 3.1415926535897...\n",
      "e = 2.7182818284590...\n",
      "9.42477796076938\n"
     ]
    }
   ],
   "source": [
    "println(π)\n",
    "println(e)\n",
    "# \\alpha <tab> = 3 \\pi<tab>\n",
    "α = 3π;\n",
    "println(α)"
   ]
  },
  {
   "cell_type": "markdown",
   "metadata": {
    "slideshow": {
     "slide_type": "subslide"
    }
   },
   "source": [
    "Durante éste curso descubriremos más detalles sobre la sintáxis de julia."
   ]
  },
  {
   "cell_type": "markdown",
   "metadata": {
    "slideshow": {
     "slide_type": "slide"
    }
   },
   "source": [
    "### Precision Numérica\n",
    "\n",
    "¿Qué precisión quieres?"
   ]
  },
  {
   "cell_type": "code",
   "execution_count": 12,
   "metadata": {
    "slideshow": {
     "slide_type": "fragment"
    }
   },
   "outputs": [
    {
     "data": {
      "text/plain": [
       "π = 3.1415926535897..."
      ]
     },
     "execution_count": 12,
     "metadata": {},
     "output_type": "execute_result"
    }
   ],
   "source": [
    "π"
   ]
  },
  {
   "cell_type": "code",
   "execution_count": 13,
   "metadata": {
    "slideshow": {
     "slide_type": "subslide"
    }
   },
   "outputs": [
    {
     "data": {
      "text/plain": [
       "3.141592653589793238462643383279502884197169399375105820974944592307816406286198"
      ]
     },
     "execution_count": 13,
     "metadata": {},
     "output_type": "execute_result"
    }
   ],
   "source": [
    "BigFloat(π)"
   ]
  },
  {
   "cell_type": "code",
   "execution_count": 14,
   "metadata": {
    "slideshow": {
     "slide_type": "subslide"
    }
   },
   "outputs": [
    {
     "name": "stdout",
     "output_type": "stream",
     "text": [
      "Precisión: 1024 bits\n",
      "3.141592653589793238462643383279502884197169399375105820974944592307816406286208998628034825342117067982148086513282306647093844609550582231725359408128481117450284102701938521105559644622948954930381964428810975665933446128475648233786783165271201909145648566923460348610454326648213393607260249141273724586997\n"
     ]
    }
   ],
   "source": [
    "setprecision(2^10) do\n",
    "    println(\"Precisión: \",precision(BigFloat),\" bits\")\n",
    "    println(BigFloat(π))\n",
    "end"
   ]
  },
  {
   "cell_type": "markdown",
   "metadata": {
    "slideshow": {
     "slide_type": "slide"
    }
   },
   "source": [
    "### Matemática\n",
    "<img src=\"https://avatars0.githubusercontent.com/u/743164?v=3&s=400\" alt=\"Julia\" width=\"200px\" height=\"200px\">\n",
    "La librería báse de Julia contiene las mejores librerías abiertas de **Algebra Lineal**, **Generación de Numeros Aleatorios**, **Procesamiento de Señales**, **Procesamiento de Cadenas**, etc."
   ]
  },
  {
   "cell_type": "markdown",
   "metadata": {
    "slideshow": {
     "slide_type": "slide"
    }
   },
   "source": [
    "### Alto desepmeño\n",
    "Para muestra un benchmark:\n",
    "https://www.ibm.com/developerworks/community/blogs/jfp/entry/A_Comparison_Of_C_Julia_Python_Numba_Cython_Scipy_and_BLAS_on_LU_Factorization?lang=en"
   ]
  },
  {
   "cell_type": "markdown",
   "metadata": {
    "slideshow": {
     "slide_type": "slide"
    }
   },
   "source": [
    "### Ejecución distribuida y paralela\n",
    "Julia está pensado para correr en varios procesadores en varias computadoras a la vez.\n",
    "<img src=\"https://upload.wikimedia.org/wikipedia/commons/thumb/d/d3/IBM_Blue_Gene_P_supercomputer.jpg/300px-IBM_Blue_Gene_P_supercomputer.jpg\" alt=\"IBM PC\" width=\"400px\">"
   ]
  },
  {
   "cell_type": "markdown",
   "metadata": {
    "slideshow": {
     "slide_type": "slide"
    }
   },
   "source": [
    "### La Comunidad\n",
    "Julia está desarrollao por gente como nosotros.\n",
    "http://pkg.julialang.org/pulse.html\n",
    "<img src=\"http://pkg.julialang.org/img/allver.svg\" alt=\"IBM PC\" width=\"800px\">"
   ]
  },
  {
   "cell_type": "markdown",
   "metadata": {
    "slideshow": {
     "slide_type": "subslide"
    }
   },
   "source": [
    "#### Recursos de JuliaLangEs \n",
    "https://github.com/JuliaLangEs\n",
    "1. Canal de chat \"julialang-es\" en Gitter:\n",
    "  * https://gitter.im/JuliaLangEs/julialang-es\n",
    "2. Grupo de chat en WhatsApp:\n",
    "  * https://chat.whatsapp.com/J9T033nZO8MLn96wWjlnHb\n",
    "3. Grupo \"JuliaLangEs - México, D.F.\" en Meetup:\n",
    "  * http://www.meetup.com/julialanges-mx\n",
    "4. Hashtag de Twitter \"JuliaLangsEs\":\n",
    "  * https://twitter.com/JuliaLangsEs\n",
    "5. Grupo \"JuliaLangEs\" en Linkedin:\n",
    "  * https://www.linkedin.com/grp/home?gid=8335583\n",
    "6. Lista de correo \"julia-users-es\" en Google Groups:\n",
    "  * https://groups.google.com/forum/#!forum/julialanges"
   ]
  },
  {
   "cell_type": "markdown",
   "metadata": {
    "slideshow": {
     "slide_type": "slide"
    }
   },
   "source": [
    "## Herramientas tecnológicas\n",
    "Revisión; ¿Tienen lo que necesitan?\n",
    "- Terminal\n",
    "- Compilador\n",
    "- Editor de Texto (Atom)\n",
    "- Jupyter notebooks\n",
    "- IDE(Juno) (Tarea)"
   ]
  },
  {
   "cell_type": "markdown",
   "metadata": {
    "slideshow": {
     "slide_type": "subslide"
    }
   },
   "source": [
    "### Terminal\n",
    "La terminal, o consola de comandos, es el núcleo interactivo de tu computadora. Todo el sistema operativo que ves a diario está basado en mandar llamar comandos a una terminal, por lo qué desde ella, puedes hacer todo lo que hace una computadora (si sabes cómo). La terminal de windows crea un emulador de `MS-DOS` (Microsoft Disk Operating System), el sistéma original de Microsoft. En sistemas Unix, como linux y mac, la terminal por default suele ser `bash` (Bourne Again SHell) pero existen muchas otras.\n",
    "\n",
    "Para abrir la terminal:\n",
    "- Windows: <kbd>Win + r</kbd> tecleén `cmd` y <kbd>Enter</kbd>\n",
    "- Mac: <kbd>Cmd + Spc</kbd> tecleén `terminal` y <kbd>Enter</kbd>\n",
    "- Linux: <kbd>Ctrl + Alt + F1</kbd> o busca el emulador de terminal (generalmente xterm)"
   ]
  },
  {
   "cell_type": "markdown",
   "metadata": {
    "slideshow": {
     "slide_type": "subslide"
    }
   },
   "source": [
    "### Compilador\n",
    "El compilador de julia es aquello que instalaron antes de venir a éste curso através del sitio oficial. Es el programa encargado de leer texto y convertirlo en lenguaje de máquina para su ejecución."
   ]
  },
  {
   "cell_type": "markdown",
   "metadata": {
    "slideshow": {
     "slide_type": "subslide"
    }
   },
   "source": [
    "### Editor de textos\n",
    "Muy diferente a un procesador de textos; es la herramienta principal para escribir texto. Como programador es conveniente buscar un editor de textos con funcionalidades como marcaje de sintáxis y autoacompletado. Es la herramienta básica del programador, y cuál usar depende mucho de cada persona. Una rápida, gratuita, y sencilla opción es Atom."
   ]
  },
  {
   "cell_type": "markdown",
   "metadata": {
    "slideshow": {
     "slide_type": "subslide"
    }
   },
   "source": [
    "### Jupyter\n",
    "Es la herramienta con la que estoy dando ésta presentación. Es un servicio web, que puedes correr en tu computadora y te permite tener código, widgets, notas, latex, y presentaciones en un mísmo lugar. Es también la herramienta más usada entre la comunidad para compartir código, procedimientos, clases, cursos, talleres, e incluso libros enteros."
   ]
  },
  {
   "cell_type": "markdown",
   "metadata": {
    "slideshow": {
     "slide_type": "slide"
    }
   },
   "source": [
    "## ¡Ahora si!\n",
    "Ahora están armados para aprovechar al máximo los recursos de la comunidad de Julia. (No solo de éste taller)"
   ]
  }
 ],
 "metadata": {
  "celltoolbar": "Slideshow",
  "kernelspec": {
   "display_name": "Python 3",
   "language": "python",
   "name": "python3"
  },
  "language_info": {
   "codemirror_mode": {
    "name": "ipython",
    "version": 3
   },
   "file_extension": ".py",
   "mimetype": "text/x-python",
   "name": "python",
   "nbconvert_exporter": "python",
   "pygments_lexer": "ipython3",
   "version": "3.8.10"
  },
  "widgets": {
   "state": {},
   "version": "1.1.2"
  }
 },
 "nbformat": 4,
 "nbformat_minor": 2
}
